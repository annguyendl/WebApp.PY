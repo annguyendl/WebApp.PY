{
 "cells": [
  {
   "cell_type": "markdown",
   "id": "1a838669",
   "metadata": {},
   "source": []
  },
  {
   "cell_type": "code",
   "execution_count": 35,
   "id": "1cc9f123",
   "metadata": {},
   "outputs": [],
   "source": [
    "import datetime\n",
    "from pandas_datareader import data\n",
    "from bokeh.plotting import figure, show, output_file\n",
    "from bokeh.embed import components\n",
    "from bokeh.resources import CDN\n",
    "\n",
    "def dec_inc(close_price, open_price):\n",
    "    if close_price > open_price:\n",
    "        return \"Increase\"\n",
    "    elif close_price < open_price:\n",
    "        return \"Decrease\"\n",
    "    else:\n",
    "        return \"Equal\"\n",
    "\n",
    "startdt = datetime.datetime(2021, 1, 1)\n",
    "enddt = datetime.datetime(2021, 10, 23)\n",
    "df = data.DataReader(name=\"AAPL\", data_source=\"yahoo\", start=startdt, end=enddt)"
   ]
  },
  {
   "cell_type": "code",
   "execution_count": 36,
   "id": "dad490d9",
   "metadata": {},
   "outputs": [
    {
     "data": {
      "text/html": [
       "<div style=\"display: table;\"><div style=\"display: table-row;\"><div style=\"display: table-cell;\"><b title=\"bokeh.models.renderers.GlyphRenderer\">GlyphRenderer</b>(</div><div style=\"display: table-cell;\">id&nbsp;=&nbsp;'3822', <span id=\"3825\" style=\"cursor: pointer;\">&hellip;)</span></div></div><div class=\"3824\" style=\"display: none;\"><div style=\"display: table-cell;\"></div><div style=\"display: table-cell;\">coordinates&nbsp;=&nbsp;None,</div></div><div class=\"3824\" style=\"display: none;\"><div style=\"display: table-cell;\"></div><div style=\"display: table-cell;\">data_source&nbsp;=&nbsp;ColumnDataSource(id='3818', ...),</div></div><div class=\"3824\" style=\"display: none;\"><div style=\"display: table-cell;\"></div><div style=\"display: table-cell;\">glyph&nbsp;=&nbsp;Rect(id='3819', ...),</div></div><div class=\"3824\" style=\"display: none;\"><div style=\"display: table-cell;\"></div><div style=\"display: table-cell;\">group&nbsp;=&nbsp;None,</div></div><div class=\"3824\" style=\"display: none;\"><div style=\"display: table-cell;\"></div><div style=\"display: table-cell;\">hover_glyph&nbsp;=&nbsp;None,</div></div><div class=\"3824\" style=\"display: none;\"><div style=\"display: table-cell;\"></div><div style=\"display: table-cell;\">js_event_callbacks&nbsp;=&nbsp;{},</div></div><div class=\"3824\" style=\"display: none;\"><div style=\"display: table-cell;\"></div><div style=\"display: table-cell;\">js_property_callbacks&nbsp;=&nbsp;{},</div></div><div class=\"3824\" style=\"display: none;\"><div style=\"display: table-cell;\"></div><div style=\"display: table-cell;\">level&nbsp;=&nbsp;'glyph',</div></div><div class=\"3824\" style=\"display: none;\"><div style=\"display: table-cell;\"></div><div style=\"display: table-cell;\">muted&nbsp;=&nbsp;False,</div></div><div class=\"3824\" style=\"display: none;\"><div style=\"display: table-cell;\"></div><div style=\"display: table-cell;\">muted_glyph&nbsp;=&nbsp;Rect(id='3821', ...),</div></div><div class=\"3824\" style=\"display: none;\"><div style=\"display: table-cell;\"></div><div style=\"display: table-cell;\">name&nbsp;=&nbsp;None,</div></div><div class=\"3824\" style=\"display: none;\"><div style=\"display: table-cell;\"></div><div style=\"display: table-cell;\">nonselection_glyph&nbsp;=&nbsp;Rect(id='3820', ...),</div></div><div class=\"3824\" style=\"display: none;\"><div style=\"display: table-cell;\"></div><div style=\"display: table-cell;\">selection_glyph&nbsp;=&nbsp;'auto',</div></div><div class=\"3824\" style=\"display: none;\"><div style=\"display: table-cell;\"></div><div style=\"display: table-cell;\">subscribed_events&nbsp;=&nbsp;[],</div></div><div class=\"3824\" style=\"display: none;\"><div style=\"display: table-cell;\"></div><div style=\"display: table-cell;\">syncable&nbsp;=&nbsp;True,</div></div><div class=\"3824\" style=\"display: none;\"><div style=\"display: table-cell;\"></div><div style=\"display: table-cell;\">tags&nbsp;=&nbsp;[],</div></div><div class=\"3824\" style=\"display: none;\"><div style=\"display: table-cell;\"></div><div style=\"display: table-cell;\">view&nbsp;=&nbsp;CDSView(id='3823', ...),</div></div><div class=\"3824\" style=\"display: none;\"><div style=\"display: table-cell;\"></div><div style=\"display: table-cell;\">visible&nbsp;=&nbsp;True,</div></div><div class=\"3824\" style=\"display: none;\"><div style=\"display: table-cell;\"></div><div style=\"display: table-cell;\">x_range_name&nbsp;=&nbsp;'default',</div></div><div class=\"3824\" style=\"display: none;\"><div style=\"display: table-cell;\"></div><div style=\"display: table-cell;\">y_range_name&nbsp;=&nbsp;'default')</div></div></div>\n",
       "<script>\n",
       "(function() {\n",
       "  let expanded = false;\n",
       "  const ellipsis = document.getElementById(\"3825\");\n",
       "  ellipsis.addEventListener(\"click\", function() {\n",
       "    const rows = document.getElementsByClassName(\"3824\");\n",
       "    for (let i = 0; i < rows.length; i++) {\n",
       "      const el = rows[i];\n",
       "      el.style.display = expanded ? \"none\" : \"table-row\";\n",
       "    }\n",
       "    ellipsis.innerHTML = expanded ? \"&hellip;)\" : \"&lsaquo;&lsaquo;&lsaquo;\";\n",
       "    expanded = !expanded;\n",
       "  });\n",
       "})();\n",
       "</script>\n"
      ],
      "text/plain": [
       "GlyphRenderer(id='3822', ...)"
      ]
     },
     "execution_count": 36,
     "metadata": {},
     "output_type": "execute_result"
    }
   ],
   "source": [
    "p=figure(x_axis_type='datetime', width=1000, height=300, sizing_mode=\"scale_width\")\n",
    "p.title=\"Candlestick chart\"\n",
    "\n",
    "p.grid.grid_line_alpha=0.3\n",
    "\n",
    "p.segment(df.index, df.High, df.index, df.Low, color=\"Black\")\n",
    "\n",
    "df[\"Status\"]=[dec_inc(c, o) for c, o in zip(df.Close, df.Open)]\n",
    "\n",
    "df[\"Middle\"]=(df.Open+df.Close)/2\n",
    "\n",
    "df[\"Diff\"]=abs(df.Open-df.Close)\n",
    "\n",
    "hour_12=12*60*60*1000\n",
    "p.rect(df.index[df.Status==\"Increase\"], df.Middle[df.Status==\"Increase\"], hour_12, df.Diff[df.Status==\"Increase\"], fill_color=\"green\", line_color=\"black\")\n",
    "p.rect(df.index[df.Status==\"Decrease\"], df.Middle[df.Status==\"Decrease\"], hour_12, df.Diff[df.Status==\"Decrease\"], fill_color=\"red\", line_color=\"black\")\n",
    "\n",
    "#output_file(\"CS_1.html\")\n",
    "#show(p)"
   ]
  },
  {
   "cell_type": "code",
   "execution_count": 37,
   "id": "3310a402",
   "metadata": {},
   "outputs": [],
   "source": [
    "script1, div1 = components(p)\n",
    "cdn_js = CDN.js_files\n",
    "cdn_css = CDN.css_files "
   ]
  },
  {
   "cell_type": "code",
   "execution_count": 41,
   "id": "64c71783",
   "metadata": {},
   "outputs": [
    {
     "data": {
      "text/plain": [
       "[]"
      ]
     },
     "execution_count": 41,
     "metadata": {},
     "output_type": "execute_result"
    }
   ],
   "source": [
    "cdn_css"
   ]
  },
  {
   "cell_type": "code",
   "execution_count": null,
   "id": "078f6004",
   "metadata": {},
   "outputs": [],
   "source": []
  }
 ],
 "metadata": {
  "kernelspec": {
   "display_name": "Python 3 (ipykernel)",
   "language": "python",
   "name": "python3"
  },
  "language_info": {
   "codemirror_mode": {
    "name": "ipython",
    "version": 3
   },
   "file_extension": ".py",
   "mimetype": "text/x-python",
   "name": "python",
   "nbconvert_exporter": "python",
   "pygments_lexer": "ipython3",
   "version": "3.9.7"
  }
 },
 "nbformat": 4,
 "nbformat_minor": 5
}
